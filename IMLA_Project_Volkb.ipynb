{
  "nbformat": 4,
  "nbformat_minor": 0,
  "metadata": {
    "colab": {
      "name": "IMLA Project_Volkb.ipynb",
      "provenance": [],
      "collapsed_sections": []
    },
    "kernelspec": {
      "display_name": "Python 3",
      "name": "python3"
    },
    "language_info": {
      "name": "python"
    }
  },
  "cells": [
    {
      "cell_type": "markdown",
      "metadata": {
        "id": "DRFb_Y_8TiX3"
      },
      "source": [
        "This project will be evaluating the potential future sales of a given product using historic timseries data from Russia's 1C Company. Additionally, data will be translated for simple reading in the US"
      ]
    },
    {
      "cell_type": "code",
      "metadata": {
        "colab": {
          "resources": {
            "http://localhost:8080/nbextensions/google.colab/files.js": {
              "data": "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",
              "ok": true,
              "headers": [
                [
                  "content-type",
                  "application/javascript"
                ]
              ],
              "status": 200,
              "status_text": ""
            }
          },
          "base_uri": "https://localhost:8080/",
          "height": 89
        },
        "id": "Y2WePCFFVYyI",
        "outputId": "636b694f-0bd8-4d94-fe87-7d7083f28c3b"
      },
      "source": [
        "#first we must install the kaggle package\n",
        "! pip install -q kaggle\n",
        "from google.colab import files\n",
        "files.upload() #this should be a valid API key.json generated from kaggle > my account"
      ],
      "execution_count": 2,
      "outputs": [
        {
          "output_type": "display_data",
          "data": {
            "text/html": [
              "\n",
              "     <input type=\"file\" id=\"files-d2f257c0-4157-4727-957a-749d82c7d159\" name=\"files[]\" multiple disabled\n",
              "        style=\"border:none\" />\n",
              "     <output id=\"result-d2f257c0-4157-4727-957a-749d82c7d159\">\n",
              "      Upload widget is only available when the cell has been executed in the\n",
              "      current browser session. Please rerun this cell to enable.\n",
              "      </output>\n",
              "      <script src=\"/nbextensions/google.colab/files.js\"></script> "
            ],
            "text/plain": [
              "<IPython.core.display.HTML object>"
            ]
          },
          "metadata": {
            "tags": []
          }
        },
        {
          "output_type": "stream",
          "text": [
            "Saving kaggle.json to kaggle.json\n"
          ],
          "name": "stdout"
        },
        {
          "output_type": "execute_result",
          "data": {
            "text/plain": [
              "{'kaggle.json': b'{\"username\":\"volkb1\",\"key\":\"6927682c91da23849eff36d1b9cedb89\"}'}"
            ]
          },
          "metadata": {
            "tags": []
          },
          "execution_count": 2
        }
      ]
    },
    {
      "cell_type": "code",
      "metadata": {
        "colab": {
          "base_uri": "https://localhost:8080/"
        },
        "id": "yQzVXXdMVxmr",
        "outputId": "e575a4a0-c6eb-41d4-be78-b67acc2d1007"
      },
      "source": [
        "# now we prep the remote repo for data download\n",
        "! mkdir ~/.kaggle\n",
        "! cp kaggle.json ~/.kaggle/\n",
        "! chmod 600 ~/.kaggle/kaggle.json\n",
        "\n",
        "#and a sanity check\n",
        "! kaggle datasets list "
      ],
      "execution_count": 5,
      "outputs": [
        {
          "output_type": "stream",
          "text": [
            "mkdir: cannot create directory ‘/root/.kaggle’: File exists\n",
            "Warning: Looks like you're using an outdated API Version, please consider updating (server 1.5.12 / client 1.5.4)\n",
            "ref                                                         title                                              size  lastUpdated          downloadCount  \n",
            "----------------------------------------------------------  ------------------------------------------------  -----  -------------------  -------------  \n",
            "gpreda/reddit-vaccine-myths                                 Reddit Vaccine Myths                              227KB  2021-04-28 17:13:57           3877  \n",
            "crowww/a-large-scale-fish-dataset                           A Large Scale Fish Dataset                          3GB  2021-04-28 17:03:01           2240  \n",
            "promptcloud/careerbuilder-job-listing-2020                  Careerbuilder Job Listing 2020                     42MB  2021-03-05 06:59:52            489  \n",
            "dhruvildave/wikibooks-dataset                               Wikibooks Dataset                                   1GB  2021-02-18 10:08:27           1428  \n",
            "mathurinache/twitter-edge-nodes                             Twitter Edge Nodes                                342MB  2021-03-08 06:43:04            219  \n",
            "imsparsh/musicnet-dataset                                   MusicNet Dataset                                   22GB  2021-02-18 14:12:19            796  \n",
            "simiotic/github-code-snippets                               GitHub Code Snippets                                7GB  2021-03-03 11:34:39             82  \n",
            "nickuzmenkov/nih-chest-xrays-tfrecords                      NIH Chest X-rays TFRecords                         11GB  2021-03-09 04:49:23            340  \n",
            "alsgroup/end-als                                            End ALS Kaggle Challenge                           12GB  2021-04-08 12:16:37            537  \n",
            "fatiimaezzahra/famous-iconic-women                          Famous Iconic Women                               838MB  2021-02-28 14:56:00            471  \n",
            "landrykezebou/lvzhdr-tone-mapping-benchmark-dataset-tmonet  LVZ-HDR Tone Mapping Benchmark Dataset (TMO-Net)   24GB  2021-03-01 05:03:40             55  \n",
            "coloradokb/dandelionimages                                  DandelionImages                                     4GB  2021-02-19 20:03:47            203  \n",
            "mathurinache/the-lj-speech-dataset                          The LJ Speech Dataset                               3GB  2021-02-15 09:19:54            105  \n",
            "nickuzmenkov/ranzcr-clip-kfold-tfrecords                    RANZCR CLiP KFold TFRecords                         2GB  2021-02-21 13:29:51             63  \n",
            "stuartjames/lights                                          LightS: Light Specularity Dataset                  18GB  2021-02-18 14:32:26             39  \n",
            "imsparsh/accentdb-core-extended                             AccentDB - Core & Extended                          6GB  2021-02-17 14:22:54             47  \n",
            "datasnaek/youtube-new                                       Trending YouTube Video Statistics                 201MB  2019-06-03 00:56:47         137858  \n",
            "zynicide/wine-reviews                                       Wine Reviews                                       51MB  2017-11-27 17:08:04         134960  \n",
            "rtatman/188-million-us-wildfires                            1.88 Million US Wildfires                         168MB  2020-05-12 21:03:49          15204  \n",
            "datasnaek/chess                                             Chess Game Dataset (Lichess)                        3MB  2017-09-04 03:09:09          17296  \n"
          ],
          "name": "stdout"
        }
      ]
    },
    {
      "cell_type": "code",
      "metadata": {
        "colab": {
          "base_uri": "https://localhost:8080/"
        },
        "id": "HQisYA5tWIDo",
        "outputId": "f1f4e2c8-0557-440b-e4bb-bb9ded541d9b"
      },
      "source": [
        "#download the data\n",
        "! kaggle competitions download -c competitive-data-science-predict-future-sales\n",
        "! mkdir ~/.kaggle/input\n",
        "! mkdir ~/.kaggle/input/competitive-data-science-predict-future-sales\n",
        "! ls ~/.kaggle/input\n",
        "! unzip test.csv.zip -d ~/.kaggle/input/competitive-data-science-predict-future-sales\n",
        "! unzip items.csv.zip -d ~/.kaggle/input/competitive-data-science-predict-future-sales\n",
        "! cp item_categories.csv ~/.kaggle/input/competitive-data-science-predict-future-sales\n",
        "! cp shops.csv ~/.kaggle/input/competitive-data-science-predict-future-sales\n",
        "! unzip sales_train.csv.zip -d ~/.kaggle/input/competitive-data-science-predict-future-sales\n",
        "\n",
        "#perform sanity check, there should be 5 things in here\n",
        "! ls ~/.kaggle/input/competitive-data-science-predict-future-sales"
      ],
      "execution_count": 6,
      "outputs": [
        {
          "output_type": "stream",
          "text": [
            "Warning: Looks like you're using an outdated API Version, please consider updating (server 1.5.12 / client 1.5.4)\n",
            "Downloading item_categories.csv to /content\n",
            "\r  0% 0.00/3.49k [00:00<?, ?B/s]\n",
            "100% 3.49k/3.49k [00:00<00:00, 6.42MB/s]\n",
            "Downloading test.csv.zip to /content\n",
            "  0% 0.00/1.02M [00:00<?, ?B/s]\n",
            "100% 1.02M/1.02M [00:00<00:00, 67.6MB/s]\n",
            "Downloading sample_submission.csv.zip to /content\n",
            "  0% 0.00/468k [00:00<?, ?B/s]\n",
            "100% 468k/468k [00:00<00:00, 142MB/s]\n",
            "Downloading shops.csv to /content\n",
            "  0% 0.00/2.91k [00:00<?, ?B/s]\n",
            "100% 2.91k/2.91k [00:00<00:00, 2.74MB/s]\n",
            "Downloading items.csv.zip to /content\n",
            "  0% 0.00/368k [00:00<?, ?B/s]\n",
            "100% 368k/368k [00:00<00:00, 113MB/s]\n",
            "Downloading sales_train.csv.zip to /content\n",
            " 38% 5.00M/13.3M [00:00<00:00, 38.3MB/s]\n",
            "100% 13.3M/13.3M [00:00<00:00, 64.8MB/s]\n",
            "mkdir: cannot create directory ‘/root/.kaggle/input’: File exists\n",
            "mkdir: cannot create directory ‘/root/.kaggle/input/competitive-data-science-predict-future-sales’: File exists\n",
            "competitive-data-science-predict-future-sales\n",
            "Archive:  test.csv.zip\n",
            "  inflating: /root/.kaggle/input/competitive-data-science-predict-future-sales/test.csv  \n",
            "Archive:  items.csv.zip\n",
            "  inflating: /root/.kaggle/input/competitive-data-science-predict-future-sales/items.csv  \n",
            "Archive:  sales_train.csv.zip\n",
            "  inflating: /root/.kaggle/input/competitive-data-science-predict-future-sales/sales_train.csv  \n",
            "item_categories.csv  items.csv\tsales_train.csv  shops.csv  test.csv\n"
          ],
          "name": "stdout"
        }
      ]
    },
    {
      "cell_type": "code",
      "metadata": {
        "id": "9YN3Lg4tT2--"
      },
      "source": [
        "# Reading in the data\n",
        "import numpy as np\n",
        "import pandas as pd\n",
        "\n",
        "#shops\n",
        "shops = pd.read_csv('~/.kaggle/input/competitive-data-science-predict-future-sales/shops.csv')\n",
        "shops.head(20)\n",
        "\n",
        "#item_categories\n",
        "item_categories = pd.read_csv('~/.kaggle/input/competitive-data-science-predict-future-sales/item_categories.csv')\n",
        "#item_categories.head(20)\n",
        "\n",
        "#sales train\n",
        "sales_train_import = pd.read_csv('~/.kaggle/input/competitive-data-science-predict-future-sales/sales_train.csv')\n",
        "#sales_train_import.head(20)\n",
        "\n",
        "#test\n",
        "#test_import = pd.read_csv('~/.kaggle/input/competitive-data-science-predict-future-sales/test.csv')\n",
        "#test_import.head(20)"
      ],
      "execution_count": 7,
      "outputs": []
    },
    {
      "cell_type": "markdown",
      "metadata": {
        "id": "5F9xER8kcKse"
      },
      "source": [
        "Now that we have the data imported, we can begin to examine it. This is timeseries data so the first vector of outliars we may have to remove is particular dates where sales volumes is not representative of the rest of the quarter or year per shop."
      ]
    },
    {
      "cell_type": "code",
      "metadata": {
        "colab": {
          "base_uri": "https://localhost:8080/",
          "height": 517
        },
        "id": "mJmmiZ5FcZp_",
        "outputId": "403c5781-7abc-40d8-c62d-9dedfe6d50c2"
      },
      "source": [
        "import matplotlib.pyplot as plt\n",
        "from matplotlib import pyplot\n",
        "from pandas import DataFrame\n",
        "\n",
        "#group the data by date and number of transactions per year\n",
        "#print(sales_train_import.dtypes)\n",
        "sales_train_import['date'] = pd.to_datetime(sales_train_import['date'], format='%d.%m.%Y')\n",
        "#print(sales_train_import.dtypes)\n",
        "date_groups = sales_train_import.groupby([sales_train_import.date.dt.year,sales_train_import.date.dt.month]).agg('count')\n",
        "date_groups_chart = date_groups[\"date\"]\n",
        "date_group_2013 = date_groups_chart[2013]\n",
        "date_group_2014 = date_groups_chart[2014]\n",
        "date_group_2015 = date_groups_chart[2015]\n",
        "\n",
        "#generate line graph\n",
        "print(date_groups_chart[2013])\n",
        "fig, ax = plt.subplots()\n",
        "ax.plot(date_group_2013,label='2013')\n",
        "ax.plot(date_group_2014,label='2014')\n",
        "ax.plot(date_group_2015,label='2015')\n",
        "ax.set_xlabel(\"Month of Sale\")\n",
        "ax.set_ylabel(\"Sales Volume\")\n",
        "leg = ax.legend();\n",
        "\n",
        "#as expected sales jumped in the month of December\n"
      ],
      "execution_count": 8,
      "outputs": [
        {
          "output_type": "stream",
          "text": [
            "date\n",
            "1     115690\n",
            "2     108613\n",
            "3     121347\n",
            "4      94109\n",
            "5      91759\n",
            "6     100403\n",
            "7     100548\n",
            "8     104772\n",
            "9      96137\n",
            "10     94202\n",
            "11     96736\n",
            "12    143246\n",
            "Name: date, dtype: int64\n"
          ],
          "name": "stdout"
        },
        {
          "output_type": "display_data",
          "data": {
            "image/png": "[encoded data removed]",
            "text/plain": [
              "<Figure size 432x288 with 1 Axes>"
            ]
          },
          "metadata": {
            "tags": [],
            "needs_background": "light"
          }
        }
      ]
    },
    {
      "cell_type": "code",
      "metadata": {
        "id": "Wf1Y1ovAeCqH",
        "colab": {
          "base_uri": "https://localhost:8080/",
          "height": 1000
        },
        "outputId": "402db3cf-486a-400b-abf2-1f247677a183"
      },
      "source": [
        "#now lets see if we can have a look at sales volumes per shop, per year (note: there are 59 uniques shops in the set)\n",
        "test = sales_train_import.groupby([sales_train_import.shop_id]).agg('count')\n",
        "shop_skew = test[\"date\"] # because we are performing an aggergation, date which is the first column is overwriten with the group data, we could rename this but its easier to just set it to a new variable.\n",
        "fig = plt.figure()\n",
        "ax = fig.add_axes([0,0,1,1])\n",
        "shop = shops['shop_id']\n",
        "counts = shop_skew\n",
        "ax.bar(shop,counts)\n",
        "ax.set_xlabel(\"Shop ID\")\n",
        "ax.set_ylabel(\"Sales Volume\")\n",
        "plt.show()\n",
        "\n",
        "#as we can see here, shop 31 is clearly the largest, we may consider removing that from the set to build out models since its sales are not representative to the rest of the set.\n",
        "shops.head(31)\n",
        "#this makes sense. ShopID 31 is a super mall in Moscow: Москва ТЦ \"Перловский\" = Moscow TC \"Perlovsky\" \n"
      ],
      "execution_count": 9,
      "outputs": [
        {
          "output_type": "display_data",
          "data": {
            "image/png": "[encoded data removed]",
            "text/plain": [
              "<Figure size 432x288 with 1 Axes>"
            ]
          },
          "metadata": {
            "tags": [],
            "needs_background": "light"
          }
        },
        {
          "output_type": "execute_result",
          "data": {
            "text/html": [
              "<div>\n",
              "<style scoped>\n",
              "    .dataframe tbody tr th:only-of-type {\n",
              "        vertical-align: middle;\n",
              "    }\n",
              "\n",
              "    .dataframe tbody tr th {\n",
              "        vertical-align: top;\n",
              "    }\n",
              "\n",
              "    .dataframe thead th {\n",
              "        text-align: right;\n",
              "    }\n",
              "</style>\n",
              "<table border=\"1\" class=\"dataframe\">\n",
              "  <thead>\n",
              "    <tr style=\"text-align: right;\">\n",
              "      <th></th>\n",
              "      <th>shop_name</th>\n",
              "      <th>shop_id</th>\n",
              "    </tr>\n",
              "  </thead>\n",
              "  <tbody>\n",
              "    <tr>\n",
              "      <th>0</th>\n",
              "      <td>!Якутск Орджоникидзе, 56 фран</td>\n",
              "      <td>0</td>\n",
              "    </tr>\n",
              "    <tr>\n",
              "      <th>1</th>\n",
              "      <td>!Якутск ТЦ \"Центральный\" фран</td>\n",
              "      <td>1</td>\n",
              "    </tr>\n",
              "    <tr>\n",
              "      <th>2</th>\n",
              "      <td>Адыгея ТЦ \"Мега\"</td>\n",
              "      <td>2</td>\n",
              "    </tr>\n",
              "    <tr>\n",
              "      <th>3</th>\n",
              "      <td>Балашиха ТРК \"Октябрь-Киномир\"</td>\n",
              "      <td>3</td>\n",
              "    </tr>\n",
              "    <tr>\n",
              "      <th>4</th>\n",
              "      <td>Волжский ТЦ \"Волга Молл\"</td>\n",
              "      <td>4</td>\n",
              "    </tr>\n",
              "    <tr>\n",
              "      <th>5</th>\n",
              "      <td>Вологда ТРЦ \"Мармелад\"</td>\n",
              "      <td>5</td>\n",
              "    </tr>\n",
              "    <tr>\n",
              "      <th>6</th>\n",
              "      <td>Воронеж (Плехановская, 13)</td>\n",
              "      <td>6</td>\n",
              "    </tr>\n",
              "    <tr>\n",
              "      <th>7</th>\n",
              "      <td>Воронеж ТРЦ \"Максимир\"</td>\n",
              "      <td>7</td>\n",
              "    </tr>\n",
              "    <tr>\n",
              "      <th>8</th>\n",
              "      <td>Воронеж ТРЦ Сити-Парк \"Град\"</td>\n",
              "      <td>8</td>\n",
              "    </tr>\n",
              "    <tr>\n",
              "      <th>9</th>\n",
              "      <td>Выездная Торговля</td>\n",
              "      <td>9</td>\n",
              "    </tr>\n",
              "    <tr>\n",
              "      <th>10</th>\n",
              "      <td>Жуковский ул. Чкалова 39м?</td>\n",
              "      <td>10</td>\n",
              "    </tr>\n",
              "    <tr>\n",
              "      <th>11</th>\n",
              "      <td>Жуковский ул. Чкалова 39м²</td>\n",
              "      <td>11</td>\n",
              "    </tr>\n",
              "    <tr>\n",
              "      <th>12</th>\n",
              "      <td>Интернет-магазин ЧС</td>\n",
              "      <td>12</td>\n",
              "    </tr>\n",
              "    <tr>\n",
              "      <th>13</th>\n",
              "      <td>Казань ТЦ \"Бехетле\"</td>\n",
              "      <td>13</td>\n",
              "    </tr>\n",
              "    <tr>\n",
              "      <th>14</th>\n",
              "      <td>Казань ТЦ \"ПаркХаус\" II</td>\n",
              "      <td>14</td>\n",
              "    </tr>\n",
              "    <tr>\n",
              "      <th>15</th>\n",
              "      <td>Калуга ТРЦ \"XXI век\"</td>\n",
              "      <td>15</td>\n",
              "    </tr>\n",
              "    <tr>\n",
              "      <th>16</th>\n",
              "      <td>Коломна ТЦ \"Рио\"</td>\n",
              "      <td>16</td>\n",
              "    </tr>\n",
              "    <tr>\n",
              "      <th>17</th>\n",
              "      <td>Красноярск ТЦ \"Взлетка Плаза\"</td>\n",
              "      <td>17</td>\n",
              "    </tr>\n",
              "    <tr>\n",
              "      <th>18</th>\n",
              "      <td>Красноярск ТЦ \"Июнь\"</td>\n",
              "      <td>18</td>\n",
              "    </tr>\n",
              "    <tr>\n",
              "      <th>19</th>\n",
              "      <td>Курск ТЦ \"Пушкинский\"</td>\n",
              "      <td>19</td>\n",
              "    </tr>\n",
              "    <tr>\n",
              "      <th>20</th>\n",
              "      <td>Москва \"Распродажа\"</td>\n",
              "      <td>20</td>\n",
              "    </tr>\n",
              "    <tr>\n",
              "      <th>21</th>\n",
              "      <td>Москва МТРЦ \"Афи Молл\"</td>\n",
              "      <td>21</td>\n",
              "    </tr>\n",
              "    <tr>\n",
              "      <th>22</th>\n",
              "      <td>Москва Магазин С21</td>\n",
              "      <td>22</td>\n",
              "    </tr>\n",
              "    <tr>\n",
              "      <th>23</th>\n",
              "      <td>Москва ТК \"Буденовский\" (пав.А2)</td>\n",
              "      <td>23</td>\n",
              "    </tr>\n",
              "    <tr>\n",
              "      <th>24</th>\n",
              "      <td>Москва ТК \"Буденовский\" (пав.К7)</td>\n",
              "      <td>24</td>\n",
              "    </tr>\n",
              "    <tr>\n",
              "      <th>25</th>\n",
              "      <td>Москва ТРК \"Атриум\"</td>\n",
              "      <td>25</td>\n",
              "    </tr>\n",
              "    <tr>\n",
              "      <th>26</th>\n",
              "      <td>Москва ТЦ \"Ареал\" (Беляево)</td>\n",
              "      <td>26</td>\n",
              "    </tr>\n",
              "    <tr>\n",
              "      <th>27</th>\n",
              "      <td>Москва ТЦ \"МЕГА Белая Дача II\"</td>\n",
              "      <td>27</td>\n",
              "    </tr>\n",
              "    <tr>\n",
              "      <th>28</th>\n",
              "      <td>Москва ТЦ \"МЕГА Теплый Стан\" II</td>\n",
              "      <td>28</td>\n",
              "    </tr>\n",
              "    <tr>\n",
              "      <th>29</th>\n",
              "      <td>Москва ТЦ \"Новый век\" (Новокосино)</td>\n",
              "      <td>29</td>\n",
              "    </tr>\n",
              "    <tr>\n",
              "      <th>30</th>\n",
              "      <td>Москва ТЦ \"Перловский\"</td>\n",
              "      <td>30</td>\n",
              "    </tr>\n",
              "  </tbody>\n",
              "</table>\n",
              "</div>"
            ],
            "text/plain": [
              "                             shop_name  shop_id\n",
              "0        !Якутск Орджоникидзе, 56 фран        0\n",
              "1        !Якутск ТЦ \"Центральный\" фран        1\n",
              "2                     Адыгея ТЦ \"Мега\"        2\n",
              "3       Балашиха ТРК \"Октябрь-Киномир\"        3\n",
              "4             Волжский ТЦ \"Волга Молл\"        4\n",
              "5               Вологда ТРЦ \"Мармелад\"        5\n",
              "6           Воронеж (Плехановская, 13)        6\n",
              "7               Воронеж ТРЦ \"Максимир\"        7\n",
              "8         Воронеж ТРЦ Сити-Парк \"Град\"        8\n",
              "9                    Выездная Торговля        9\n",
              "10          Жуковский ул. Чкалова 39м?       10\n",
              "11          Жуковский ул. Чкалова 39м²       11\n",
              "12                 Интернет-магазин ЧС       12\n",
              "13                 Казань ТЦ \"Бехетле\"       13\n",
              "14             Казань ТЦ \"ПаркХаус\" II       14\n",
              "15                Калуга ТРЦ \"XXI век\"       15\n",
              "16                    Коломна ТЦ \"Рио\"       16\n",
              "17       Красноярск ТЦ \"Взлетка Плаза\"       17\n",
              "18                Красноярск ТЦ \"Июнь\"       18\n",
              "19               Курск ТЦ \"Пушкинский\"       19\n",
              "20                 Москва \"Распродажа\"       20\n",
              "21              Москва МТРЦ \"Афи Молл\"       21\n",
              "22                  Москва Магазин С21       22\n",
              "23    Москва ТК \"Буденовский\" (пав.А2)       23\n",
              "24    Москва ТК \"Буденовский\" (пав.К7)       24\n",
              "25                 Москва ТРК \"Атриум\"       25\n",
              "26         Москва ТЦ \"Ареал\" (Беляево)       26\n",
              "27      Москва ТЦ \"МЕГА Белая Дача II\"       27\n",
              "28     Москва ТЦ \"МЕГА Теплый Стан\" II       28\n",
              "29  Москва ТЦ \"Новый век\" (Новокосино)       29\n",
              "30              Москва ТЦ \"Перловский\"       30"
            ]
          },
          "metadata": {
            "tags": []
          },
          "execution_count": 9
        }
      ]
    },
    {
      "cell_type": "code",
      "metadata": {
        "id": "O85bmcvm6ThJ",
        "colab": {
          "base_uri": "https://localhost:8080/",
          "height": 503
        },
        "outputId": "4c88629f-b6e3-4b9d-ddb8-37de2d2356ba"
      },
      "source": [
        "#because we need to predict on this data, it is important to determine what \"bins\" our price categories can be placed into, this may help us pick an algo.\n",
        "\n",
        "import seaborn as sns\n",
        "\n",
        "sales_train_import = sales_train_import[sales_train_import['item_price'] > 0]\n",
        "test3 = sales_train_import.groupby([sales_train_import.item_price]).agg('count')\n",
        "test3 = test3['date']\n",
        "test3.describe()\n",
        "\n",
        "df3 = test3.reset_index()\n",
        "df3.rename(columns = {'item_price' : 'price', 'date' : 'price_count'}, inplace = True)\n",
        "print(df3)\n",
        "#Price_categories.value_counts()\n",
        "fig3, ax = plt.subplots()\n",
        "ax.plot(df3['price_count'], label = 'price')\n",
        "leg = ax.legend();\n",
        "\n",
        "#the prices are in RUB and tend to be skewed toward cheaper items. this means our data is coorlated with category.\n"
      ],
      "execution_count": 10,
      "outputs": [
        {
          "output_type": "stream",
          "text": [
            "             price  price_count\n",
            "0           0.0700            2\n",
            "1           0.0875            1\n",
            "2           0.0900            1\n",
            "3           0.1000         2932\n",
            "4           0.2000            1\n",
            "...            ...          ...\n",
            "19987   42990.0000            4\n",
            "19988   49782.0000            1\n",
            "19989   50999.0000            1\n",
            "19990   59200.0000            1\n",
            "19991  307980.0000            1\n",
            "\n",
            "[19992 rows x 2 columns]\n"
          ],
          "name": "stdout"
        },
        {
          "output_type": "display_data",
          "data": {
            "image/png": "[encoded data removed]",
            "text/plain": [
              "<Figure size 432x288 with 1 Axes>"
            ]
          },
          "metadata": {
            "tags": [],
            "needs_background": "light"
          }
        }
      ]
    },
    {
      "cell_type": "markdown",
      "metadata": {
        "id": "9LhbE1qGTcIQ"
      },
      "source": [
        "With exploration done, we can now begin the prediciton methodology. For the base algorythm, we are going to use a random forest regressor because of the high corilation found above within the features.\n",
        "\n",
        "**Note**: as you can see above, we are not importing the given test data set. This is done because the features of the data set are not the same representative features of the training set and therefore, it would be more benificial for us to derive our own test set as seen below. This will help us later if data enrichment is needed.\n",
        "\n",
        "**Note**: Because we are using basic colab to perform this complex join and aggergation, the colab notebook crashes with an OOM error, so instead we will read the aggergation from a pre-made flat file from MS SQL SERVER. The script to re-create this data is found on the github in /SQL"
      ]
    },
    {
      "cell_type": "code",
      "metadata": {
        "id": "TPt8eaVuVU34"
      },
      "source": [
        "#import the packages\n",
        "from sklearn.model_selection import train_test_split\n",
        "from sklearn.ensemble import RandomForestRegressor\n",
        "from sklearn.metrics import r2_score,mean_squared_error\n",
        "\n",
        "#pre-process by dropping any NA values\n",
        "#sales_train_import = sales_train_import.dropna()\n",
        "\n",
        "#because item price is static and each record represents a transaction, we need to group our data by the frequency of transactions per day\n",
        "#Item_freq = sales_train_import\n",
        "#Item_freq = sales_train_import.filter(['date','item_id','price'], axis=1)\n",
        "\n",
        "#Item_Prices = sales_train_import.filter(['item_id','price'], axis=1)\n",
        "\n",
        "#Item_freq_temp = Item_freq.groupby([\"date\",\"item_id\"])[\"item_id\"].count()\n",
        "#Item_freq_temp2 = DataFrame({'count' : Item_freq_temp.groupby( [ \"date\", \"item_id\"] ).size()}).reset_index()\n",
        "\n",
        "#inner_merged_total = pd.merge(Item_freq_temp2, Item_Prices, on=[\"item_id\"])\n",
        "aggergates = pd.read_csv('https://raw.githubusercontent.com/volkb/introMLProject/master/data_aggergate.csv', error_bad_lines=False)\n",
        "\n",
        "\n"
      ],
      "execution_count": 79,
      "outputs": []
    },
    {
      "cell_type": "markdown",
      "metadata": {
        "id": "jYMJXa-a-Pkv"
      },
      "source": [
        "with our data imported now, we can create our train and test set"
      ]
    },
    {
      "cell_type": "code",
      "metadata": {
        "colab": {
          "base_uri": "https://localhost:8080/"
        },
        "id": "ZZwxbdEZ-T5i",
        "outputId": "4e57ee7f-6358-4d9c-8ca6-815d61fc0b14"
      },
      "source": [
        "X = aggergates.drop('profit',axis=1)\n",
        "y = aggergates['profit']\n",
        "\n",
        "X_train, X_test, y_train, y_test = train_test_split(X, y, test_size=0.30, random_state=42)\n",
        "\n",
        "RFR = RandomForestRegressor(n_estimators=20, random_state=0)\n",
        "RFR.fit(x_train,y_train)"
      ],
      "execution_count": 80,
      "outputs": [
        {
          "output_type": "execute_result",
          "data": {
            "text/plain": [
              "RandomForestRegressor(bootstrap=True, ccp_alpha=0.0, criterion='mse',\n",
              "                      max_depth=None, max_features='auto', max_leaf_nodes=None,\n",
              "                      max_samples=None, min_impurity_decrease=0.0,\n",
              "                      min_impurity_split=None, min_samples_leaf=1,\n",
              "                      min_samples_split=2, min_weight_fraction_leaf=0.0,\n",
              "                      n_estimators=20, n_jobs=None, oob_score=False,\n",
              "                      random_state=0, verbose=0, warm_start=False)"
            ]
          },
          "metadata": {
            "tags": []
          },
          "execution_count": 80
        }
      ]
    },
    {
      "cell_type": "markdown",
      "metadata": {
        "id": "8OZgwSrtAYR6"
      },
      "source": [
        "and now we run the prediction"
      ]
    },
    {
      "cell_type": "code",
      "metadata": {
        "id": "4aUBujgDAd_A"
      },
      "source": [
        "#running the prediction\n",
        "y_pred = RFR.predict(X_test)\n"
      ],
      "execution_count": null,
      "outputs": []
    },
    {
      "cell_type": "code",
      "metadata": {
        "colab": {
          "base_uri": "https://localhost:8080/",
          "height": 330
        },
        "id": "KBBRL_GTB9yk",
        "outputId": "cbd6c8c9-2796-485e-b863-ddf04401db9b"
      },
      "source": [
        "#evaluating the result\n",
        "from sklearn.metrics import classification_report, confusion_matrix, accuracy_score\n",
        "from sklearn.feature_selection import RFECV\n",
        "\n",
        "#mse\n",
        "mse = mean_squared_error(y_test,y_pred)\n",
        "rmse = np.sqrt(mse)\n",
        "print(rmse)\n",
        "#as we can see here the mean squared error is very large. Lets try some tuning\n",
        "\n",
        "estimators = np.arange(10, 200, 10)\n",
        "scores = []\n",
        "for n in estimators:\n",
        "    RFR.set_params(n_estimators=n)\n",
        "    RFR.fit(X_train, y_train)\n",
        "    scores.append(RFR.score(X_test, y_test))\n",
        "plt.title(\"Effect of n_estimators\")\n",
        "plt.xlabel(\"n_estimator\")\n",
        "plt.ylabel(\"score\")\n",
        "plt.plot(estimators, scores)\n",
        "\n",
        "#The graph below shows us a possible tuning parameter"
      ],
      "execution_count": null,
      "outputs": [
        {
          "output_type": "stream",
          "text": [
            "6194.498275567447\n"
          ],
          "name": "stdout"
        },
        {
          "output_type": "execute_result",
          "data": {
            "text/plain": [
              "[<matplotlib.lines.Line2D at 0x7f1c4be68310>]"
            ]
          },
          "metadata": {
            "tags": []
          },
          "execution_count": 32
        },
        {
          "output_type": "display_data",
          "data": {
            "image/png": "[encoded data removed]",
            "text/plain": [
              "<Figure size 432x288 with 1 Axes>"
            ]
          },
          "metadata": {
            "tags": []
          }
        }
      ]
    },
    {
      "cell_type": "markdown",
      "metadata": {
        "id": "JryFophmOCye"
      },
      "source": [
        "With our major hyper parameter adjusted, lets re-fit and try again"
      ]
    },
    {
      "cell_type": "code",
      "metadata": {
        "colab": {
          "base_uri": "https://localhost:8080/"
        },
        "id": "6CEfH3XsOIal",
        "outputId": "929e086f-302f-4ad0-d56d-86046a50b146"
      },
      "source": [
        "RFR = RandomForestRegressor(n_estimators=170, random_state=0,max_depth=70,min_samples_leaf=4,min_samples_split=10)\n",
        "RFR.fit(x_train,y_train)\n",
        "\n",
        "print('SCORE: %s' % RFR.score(X_test, y_test))\n",
        "mse = mean_squared_error(y_test,y_pred)\n",
        "rmse = np.sqrt(mse)\n",
        "print(rmse)"
      ],
      "execution_count": null,
      "outputs": [
        {
          "output_type": "stream",
          "text": [
            "SCORE: 0.8861249360032011\n",
            "6194.498275567447\n"
          ],
          "name": "stdout"
        }
      ]
    },
    {
      "cell_type": "code",
      "metadata": {
        "colab": {
          "base_uri": "https://localhost:8080/"
        },
        "id": "LI0cYxKRPZdi",
        "outputId": "eb228bac-e494-4ffb-fa43-d54e1d9d5426"
      },
      "source": [
        "# 88% is not bad at all, but lets see if we can adjust this a little more, then try and address that MSE\n",
        "RFR = RandomForestRegressor(n_estimators=170, random_state=42)\n",
        "RFR.fit(x_train,y_train)\n",
        "\n",
        "print('SCORE: %s' % RFR.score(X_test, y_test))\n",
        "mse = mean_squared_error(y_test,y_pred)\n",
        "rmse = np.sqrt(mse)\n",
        "print(rmse)\n",
        "#score is now a 91%, great! but we still need to address the high RMSE value"
      ],
      "execution_count": null,
      "outputs": [
        {
          "output_type": "stream",
          "text": [
            "SCORE: 0.9177643299320856\n",
            "6194.498275567447\n"
          ],
          "name": "stdout"
        }
      ]
    },
    {
      "cell_type": "markdown",
      "metadata": {
        "id": "-wucFyLXRgSf"
      },
      "source": [
        "We have a solid score now, but we need to explore our test and train sets a bit more to see why the RMSE value is so high"
      ]
    },
    {
      "cell_type": "code",
      "metadata": {
        "colab": {
          "base_uri": "https://localhost:8080/",
          "height": 333
        },
        "id": "Y_LLvv8qRmYE",
        "outputId": "d5a05186-7372-4c47-954a-b29cee99c5f0"
      },
      "source": [
        "fig, ax = plt.subplots()\n",
        "ax.scatter(x = x_train['item_id'], y = x_train['qty'])\n",
        "plt.ylabel('quantity sold', fontsize=13)\n",
        "plt.xlabel('Item ID', fontsize=13)\n",
        "plt.show()"
      ],
      "execution_count": null,
      "outputs": [
        {
          "output_type": "display_data",
          "data": {
            "image/png": "[encoded data removed]",
            "text/plain": [
              "<Figure size 432x288 with 1 Axes>"
            ]
          },
          "metadata": {
            "tags": []
          }
        },
        {
          "output_type": "stream",
          "text": [
            "Empty DataFrame\n",
            "Columns: [saleMonth, SaleYear, item_id, item_category_id, qty, profit]\n",
            "Index: []\n"
          ],
          "name": "stdout"
        }
      ]
    },
    {
      "cell_type": "code",
      "metadata": {
        "id": "AvWjGC1tgzYo"
      },
      "source": [
        "aggergates = aggergates.drop(aggergates[(aggergates['qty']>240)].index)\n",
        "X = aggergates.drop('profit',axis=1)\n",
        "y = aggergates['profit']\n",
        "\n",
        "X_train, X_test, y_train, y_test = train_test_split(X, y, test_size=0.30, random_state=4)"
      ],
      "execution_count": 88,
      "outputs": []
    },
    {
      "cell_type": "code",
      "metadata": {
        "colab": {
          "base_uri": "https://localhost:8080/",
          "height": 282
        },
        "id": "trnVBJCBYIV3",
        "outputId": "ac91d407-436b-4246-e836-6d829c4b61eb"
      },
      "source": [
        "# now lets try again\n",
        "fig, ax = plt.subplots()\n",
        "ax.scatter(x = X_train['item_id'], y = X_train['qty'])\n",
        "plt.ylabel('quantity sold', fontsize=13)\n",
        "plt.xlabel('Item ID', fontsize=13)\n",
        "plt.show()\n",
        "# much better"
      ],
      "execution_count": 89,
      "outputs": [
        {
          "output_type": "display_data",
          "data": {
            "image/png": "[encoded data removed]",
            "text/plain": [
              "<Figure size 432x288 with 1 Axes>"
            ]
          },
          "metadata": {
            "tags": [],
            "needs_background": "light"
          }
        }
      ]
    },
    {
      "cell_type": "code",
      "metadata": {
        "colab": {
          "base_uri": "https://localhost:8080/",
          "height": 555
        },
        "id": "vb_ktjIoZPZb",
        "outputId": "9deb0ef5-3332-4f48-a2c3-c428d7e021b5"
      },
      "source": [
        "from scipy.stats import norm\n",
        "from scipy import stats\n",
        "import seaborn as sns\n",
        "\n",
        "#now lets check the coorlation of the data\n",
        "corrmat = aggergates.corr()\n",
        "plt.subplots(figsize=(12,9))\n",
        "sns.heatmap(corrmat, vmax=0.9, square=True)\n"
      ],
      "execution_count": null,
      "outputs": [
        {
          "output_type": "execute_result",
          "data": {
            "text/plain": [
              "<matplotlib.axes._subplots.AxesSubplot at 0x7f1c3fba2090>"
            ]
          },
          "metadata": {
            "tags": []
          },
          "execution_count": 60
        },
        {
          "output_type": "display_data",
          "data": {
            "image/png": "[encoded data removed]",
            "text/plain": [
              "<Figure size 864x648 with 2 Axes>"
            ]
          },
          "metadata": {
            "tags": []
          }
        }
      ]
    },
    {
      "cell_type": "code",
      "metadata": {
        "colab": {
          "base_uri": "https://localhost:8080/",
          "height": 531
        },
        "id": "AvJQF3EmdBA3",
        "outputId": "8fafbb55-8a78-4b67-c875-1332dc1dcdd6"
      },
      "source": [
        "print(aggergates)\n",
        "fig, ax = plt.subplots()\n",
        "ax.scatter(x = aggergates['item_id'], y = aggergates['profit'])\n",
        "plt.ylabel('profit of item - lifetime', fontsize=13)\n",
        "plt.xlabel('Item ID', fontsize=13)\n",
        "plt.show()\n",
        "\n",
        "#ah mroe outliars to drop\n",
        "aggergates = aggergates.drop(aggergates[(aggergates['profit']>20000)].index)\n",
        "X = aggergates.drop('profit',axis=1)\n",
        "y = aggergates['profit']\n",
        "\n",
        "X_train, X_test, y_train, y_test = train_test_split(X, y, test_size=0.30, random_state=42)"
      ],
      "execution_count": 90,
      "outputs": [
        {
          "output_type": "stream",
          "text": [
            "        saleMonth  SaleYear  item_id  item_category_id  qty        profit\n",
            "0               1      2013     3686                19   64  55212.096667\n",
            "1               9      2013    19953                67    2   1396.000000\n",
            "2               9      2013    13996                40   16   2105.000000\n",
            "3               3      2013     8951                38    9   1791.000000\n",
            "4               7      2014     6540                25    3   2697.000000\n",
            "...           ...       ...      ...               ...  ...           ...\n",
            "233873          4      2013     1747                58    1   1449.000000\n",
            "233874         10      2015    20571                72    1    799.000000\n",
            "233875          9      2015    10314                40    1    249.000000\n",
            "233876          9      2015     6028                58    1   2799.000000\n",
            "233877          4      2013    10087                40    1     70.000000\n",
            "\n",
            "[233862 rows x 6 columns]\n"
          ],
          "name": "stdout"
        },
        {
          "output_type": "display_data",
          "data": {
            "image/png": "[encoded data removed]",
            "text/plain": [
              "<Figure size 432x288 with 1 Axes>"
            ]
          },
          "metadata": {
            "tags": [],
            "needs_background": "light"
          }
        }
      ]
    },
    {
      "cell_type": "code",
      "metadata": {
        "colab": {
          "base_uri": "https://localhost:8080/",
          "height": 520
        },
        "id": "6mzfLimRfNf-",
        "outputId": "3ac875dd-7f95-4e5e-900e-39d9168764e0"
      },
      "source": [
        "#lets see that again\n",
        "print(aggergates)\n",
        "fig, ax = plt.subplots()\n",
        "ax.scatter(x = aggergates['item_id'], y = aggergates['profit'])\n",
        "plt.ylabel('profit of item - lifetime', fontsize=13)\n",
        "plt.xlabel('Item ID', fontsize=13)\n",
        "plt.show()"
      ],
      "execution_count": 91,
      "outputs": [
        {
          "output_type": "stream",
          "text": [
            "        saleMonth  SaleYear  item_id  item_category_id  qty  profit\n",
            "1               9      2013    19953                67    2  1396.0\n",
            "2               9      2013    13996                40   16  2105.0\n",
            "3               3      2013     8951                38    9  1791.0\n",
            "4               7      2014     6540                25    3  2697.0\n",
            "5               7      2015    18099                57    4  1316.0\n",
            "...           ...       ...      ...               ...  ...     ...\n",
            "233873          4      2013     1747                58    1  1449.0\n",
            "233874         10      2015    20571                72    1   799.0\n",
            "233875          9      2015    10314                40    1   249.0\n",
            "233876          9      2015     6028                58    1  2799.0\n",
            "233877          4      2013    10087                40    1    70.0\n",
            "\n",
            "[220271 rows x 6 columns]\n"
          ],
          "name": "stdout"
        },
        {
          "output_type": "display_data",
          "data": {
            "image/png": "[encoded data removed]",
            "text/plain": [
              "<Figure size 432x288 with 1 Axes>"
            ]
          },
          "metadata": {
            "tags": [],
            "needs_background": "light"
          }
        }
      ]
    },
    {
      "cell_type": "markdown",
      "metadata": {
        "id": "P769_nSOlgEu"
      },
      "source": [
        "It looks like we are still seeing a decently long tail in our exploration, lets apply some additional macro filtering to take out the left skew.\n",
        "\n",
        "**Note**: see SQL script in github, due to the limitations oif colab, this is another import as above which simply refines and applies the drops shown above"
      ]
    },
    {
      "cell_type": "code",
      "metadata": {
        "id": "UzOQaE66lwCZ"
      },
      "source": [
        "aggergates_filtered = pd.read_csv('https://raw.githubusercontent.com/volkb/introMLProject/master/data_aggergates_filtered.csv')\n",
        "aggergates_filtered = aggergates_filtered.dropna()\n"
      ],
      "execution_count": 108,
      "outputs": []
    },
    {
      "cell_type": "code",
      "metadata": {
        "id": "tIMUaQMdoP1N"
      },
      "source": [
        "#grab our test and training set\n",
        "X2 = aggergates_filtered.drop('profit',axis=1)\n",
        "y2 = aggergates_filtered['profit']\n",
        "\n",
        "X_train2, X_test2, y_train2, y_test2 = train_test_split(X2, y2, test_size=0.30, random_state=42)\n",
        "\n",
        "#train the model\n",
        "RFR = RandomForestRegressor(n_estimators=170, random_state=42)\n",
        "RFR.fit(X_train2,y_train2)"
      ],
      "execution_count": null,
      "outputs": []
    },
    {
      "cell_type": "code",
      "metadata": {
        "colab": {
          "base_uri": "https://localhost:8080/"
        },
        "id": "LjOyihK_qEXk",
        "outputId": "ab71a2cb-3922-4f8e-8c6f-06479af6f872"
      },
      "source": [
        "#run the prediction\n",
        "y_pred2 = RFR.predict(X_test2)\n",
        "\n",
        "#and the metrics\n",
        "print('SCORE: %s' % RFR.score(X_test2, y_test2))\n",
        "mse = mean_squared_error(y_test2,y_pred2)\n",
        "rmse = np.sqrt(mse)\n",
        "print(rmse)\n",
        "\n",
        "#as we can see, the RMSE is MUCH lower than before as the data is much more normalized now, and the accuracy is still around 91%"
      ],
      "execution_count": 99,
      "outputs": [
        {
          "output_type": "stream",
          "text": [
            "SCORE: 0.9110808756740989\n",
            "247.7897878921512\n"
          ],
          "name": "stdout"
        }
      ]
    }
  ]
}